{
  "cells": [
    {
      "cell_type": "code",
      "source": [
        "!pip install surprise"
      ],
      "metadata": {
        "colab": {
          "base_uri": "https://localhost:8080/"
        },
        "id": "4Jesop2zqD52",
        "outputId": "a619dedd-49a8-44d2-c052-de5117359e22"
      },
      "execution_count": null,
      "outputs": [
        {
          "output_type": "stream",
          "name": "stdout",
          "text": [
            "Looking in indexes: https://pypi.org/simple, https://us-python.pkg.dev/colab-wheels/public/simple/\n",
            "Collecting surprise\n",
            "  Downloading surprise-0.1-py2.py3-none-any.whl (1.8 kB)\n",
            "Collecting scikit-surprise (from surprise)\n",
            "  Downloading scikit-surprise-1.1.3.tar.gz (771 kB)\n",
            "\u001b[2K     \u001b[90m━━━━━━━━━━━━━━━━━━━━━━━━━━━━━━━━━━━━━━\u001b[0m \u001b[32m772.0/772.0 kB\u001b[0m \u001b[31m11.9 MB/s\u001b[0m eta \u001b[36m0:00:00\u001b[0m\n",
            "\u001b[?25h  Preparing metadata (setup.py) ... \u001b[?25l\u001b[?25hdone\n",
            "Requirement already satisfied: joblib>=1.0.0 in /usr/local/lib/python3.10/dist-packages (from scikit-surprise->surprise) (1.2.0)\n",
            "Requirement already satisfied: numpy>=1.17.3 in /usr/local/lib/python3.10/dist-packages (from scikit-surprise->surprise) (1.22.4)\n",
            "Requirement already satisfied: scipy>=1.3.2 in /usr/local/lib/python3.10/dist-packages (from scikit-surprise->surprise) (1.10.1)\n",
            "Building wheels for collected packages: scikit-surprise\n",
            "  Building wheel for scikit-surprise (setup.py) ... \u001b[?25l\u001b[?25hdone\n",
            "  Created wheel for scikit-surprise: filename=scikit_surprise-1.1.3-cp310-cp310-linux_x86_64.whl size=3095457 sha256=765e09487d7d5f903ecec5c6647654b37dba6bd780d0e36130d9a8a2910c5bc7\n",
            "  Stored in directory: /root/.cache/pip/wheels/a5/ca/a8/4e28def53797fdc4363ca4af740db15a9c2f1595ebc51fb445\n",
            "Successfully built scikit-surprise\n",
            "Installing collected packages: scikit-surprise, surprise\n",
            "Successfully installed scikit-surprise-1.1.3 surprise-0.1\n"
          ]
        }
      ]
    },
    {
      "cell_type": "code",
      "execution_count": null,
      "metadata": {
        "id": "EqgOBNQTpk5n"
      },
      "outputs": [],
      "source": [
        "import pandas as pd\n",
        "import numpy as np\n",
        "import matplotlib.pyplot as plt\n",
        "import seaborn as sns"
      ]
    },
    {
      "cell_type": "code",
      "execution_count": null,
      "metadata": {
        "id": "llXztBUWpk5q"
      },
      "outputs": [],
      "source": [
        "from surprise import SVD, KNNBasic\n",
        "from surprise import Dataset\n",
        "from surprise.model_selection import cross_validate\n",
        "from surprise.model_selection import GridSearchCV\n",
        "from surprise.reader import Reader"
      ]
    },
    {
      "cell_type": "code",
      "execution_count": null,
      "metadata": {
        "id": "KlN4un6rpk5r"
      },
      "outputs": [],
      "source": [
        "data = Dataset.load_builtin('ml-100k', prompt = False)"
      ]
    },
    {
      "cell_type": "code",
      "execution_count": null,
      "metadata": {
        "colab": {
          "base_uri": "https://localhost:8080/"
        },
        "id": "lIsvefv7pk5r",
        "outputId": "7d776a93-588f-43ec-b8c5-55815ff30406"
      },
      "outputs": [
        {
          "output_type": "stream",
          "name": "stdout",
          "text": [
            "Estimating biases using sgd...\n",
            "Estimating biases using sgd...\n",
            "Estimating biases using sgd...\n"
          ]
        },
        {
          "output_type": "execute_result",
          "data": {
            "text/plain": [
              "{'test_rmse': array([0.96022763, 0.96055991, 0.95749395]),\n",
              " 'fit_time': (0.14301681518554688, 0.1758575439453125, 0.17640995979309082),\n",
              " 'test_time': (0.15261530876159668, 0.264542818069458, 0.14538240432739258)}"
            ]
          },
          "metadata": {},
          "execution_count": 8
        }
      ],
      "source": [
        "from surprise import BaselineOnly\n",
        "bsl_options = {'method': 'sgd',\n",
        "               'n_epochs': 5,\n",
        "               'reg_u': 12,\n",
        "               'reg_i': 5\n",
        "               }\n",
        "algo = BaselineOnly(bsl_options=bsl_options)\n",
        "cross_validate(algo, data, measures=['RMSE'], cv=3, verbose=False)"
      ]
    },
    {
      "cell_type": "markdown",
      "metadata": {
        "id": "OQV6KqOepk5s"
      },
      "source": [
        "> Question: Change the method parameter by replacing sgd by als. Is the rms improving?"
      ]
    },
    {
      "cell_type": "code",
      "source": [
        "from surprise import BaselineOnly\n",
        "bsl_options = {'method': 'als',\n",
        "               'n_epochs': 5,\n",
        "               'reg_u': 12,\n",
        "               'reg_i': 5\n",
        "               }\n",
        "algo = BaselineOnly(bsl_options=bsl_options)\n",
        "cross_validate(algo, data, measures=['RMSE'], cv=3, verbose=False)"
      ],
      "metadata": {
        "colab": {
          "base_uri": "https://localhost:8080/"
        },
        "id": "jIBcYvKKr1E7",
        "outputId": "fadc044b-5acc-4390-9629-41ee1204ba05"
      },
      "execution_count": null,
      "outputs": [
        {
          "output_type": "stream",
          "name": "stdout",
          "text": [
            "Estimating biases using als...\n",
            "Estimating biases using als...\n",
            "Estimating biases using als...\n"
          ]
        },
        {
          "output_type": "execute_result",
          "data": {
            "text/plain": [
              "{'test_rmse': array([0.94447158, 0.94442329, 0.9437876 ]),\n",
              " 'fit_time': (0.21609091758728027, 0.1817317008972168, 0.17545413970947266),\n",
              " 'test_time': (0.30545711517333984, 0.2771172523498535, 0.15857625007629395)}"
            ]
          },
          "metadata": {},
          "execution_count": 9
        }
      ]
    },
    {
      "cell_type": "code",
      "execution_count": null,
      "metadata": {
        "colab": {
          "base_uri": "https://localhost:8080/"
        },
        "id": "-Ix_41kBpk5t",
        "outputId": "df0ce662-9fb6-4c28-b585-d7fc4df6fe35"
      },
      "outputs": [
        {
          "output_type": "stream",
          "name": "stdout",
          "text": [
            "Evaluating RMSE, MAE of algorithm SVD on 5 split(s).\n",
            "\n",
            "                  Fold 1  Fold 2  Fold 3  Fold 4  Fold 5  Mean    Std     \n",
            "RMSE (testset)    0.9332  0.9331  0.9403  0.9376  0.9317  0.9352  0.0032  \n",
            "MAE (testset)     0.7372  0.7351  0.7385  0.7378  0.7349  0.7367  0.0014  \n",
            "Fit time          1.96    1.38    1.40    1.34    1.35    1.49    0.24    \n",
            "Test time         0.25    0.17    0.26    0.20    0.14    0.20    0.05    \n"
          ]
        },
        {
          "output_type": "execute_result",
          "data": {
            "text/plain": [
              "{'test_rmse': array([0.93324366, 0.93314769, 0.94028752, 0.93763963, 0.93169185]),\n",
              " 'test_mae': array([0.73724911, 0.73511617, 0.73849728, 0.73779712, 0.73494231]),\n",
              " 'fit_time': (1.9600512981414795,\n",
              "  1.3837592601776123,\n",
              "  1.400336503982544,\n",
              "  1.3350582122802734,\n",
              "  1.3528707027435303),\n",
              " 'test_time': (0.25365161895751953,\n",
              "  0.16825294494628906,\n",
              "  0.26096558570861816,\n",
              "  0.1968824863433838,\n",
              "  0.14217925071716309)}"
            ]
          },
          "metadata": {},
          "execution_count": 10
        }
      ],
      "source": [
        "\n",
        "# Let's use SVD seen in the course.\n",
        "algo = SVD()\n",
        "#  5-fold cross-validation showing results\n",
        "cross_validate(algo, data, measures=['RMSE', 'MAE'], cv=5, verbose=True)"
      ]
    },
    {
      "cell_type": "markdown",
      "metadata": {
        "id": "vSpFijclpk5u"
      },
      "source": [
        "## this SVD  is said to be biased:\n",
        "https://surprise.readthedocs.io/en/stable/matrix_factorization.html#matrix-factorization-based-algorithms\n",
        "\n",
        "## we will specify the optimal number of factors using GreadSearchCV."
      ]
    },
    {
      "cell_type": "code",
      "execution_count": null,
      "metadata": {
        "id": "hjcDxcClpk5v",
        "outputId": "c8e9ab1a-495c-483d-901a-9bf92b9fb50d"
      },
      "outputs": [
        {
          "name": "stdout",
          "output_type": "stream",
          "text": [
            "0.9347514856960103\n",
            "{'n_factors': 18}\n"
          ]
        }
      ],
      "source": [
        "param_grid = {'n_factors': [4,6,9,11,14,18,29]}\n",
        "gs = GridSearchCV(SVD, param_grid, measures=['rmse'], cv=5)\n",
        "gs.fit(data)\n",
        "\n",
        "\n",
        "# the best RMSE\n",
        "print(gs.best_score['rmse'])\n",
        "\n",
        "# parameters behind this performance\n",
        "print(gs.best_params['rmse'])"
      ]
    },
    {
      "cell_type": "markdown",
      "metadata": {
        "id": "Qe2YZymLpk5w"
      },
      "source": [
        "## To get this number of factors in a more concise way, we will use cross-validation by proving it graphically"
      ]
    },
    {
      "cell_type": "code",
      "execution_count": null,
      "metadata": {
        "id": "jfDHPx04pk5w"
      },
      "outputs": [],
      "source": [
        "def rmse_vs_factors(algorithm, data):\n",
        "\n",
        "\n",
        "\n",
        "    rmse_algorithm = []\n",
        "\n",
        "    for k in range(4,20,1):\n",
        "        algo = algorithm(n_factors = k)\n",
        "\n",
        "        #[\"test_rmse\"] is a numpy array with the min RMSE in each test set\n",
        "        loss_fce = cross_validate(algo, data, measures=['RMSE'], cv=5, verbose=False)[\"test_rmse\"].mean()\n",
        "        rmse_algorithm.append(loss_fce)\n",
        "\n",
        "    return rmse_algorithm"
      ]
    },
    {
      "cell_type": "code",
      "execution_count": null,
      "metadata": {
        "id": "BqK2TQIdpk5x"
      },
      "outputs": [],
      "source": [
        "rmse_svd = rmse_vs_factors(SVD,data)"
      ]
    },
    {
      "cell_type": "code",
      "execution_count": null,
      "metadata": {
        "id": "eMhv2kgNpk5x"
      },
      "outputs": [],
      "source": [
        "def plot_rmse(rmse, algorithm):\n",
        "    plt.figure(num=None, figsize=(11, 5), dpi=80, facecolor='w', edgecolor='k')\n",
        "\n",
        "    plt.subplot(2,1,1)\n",
        "    plt.plot(rmse)\n",
        "    plt.xlim(0,20)\n",
        "    plt.title(\"{0} Performance: RMSE contre le nbre de Facteurs\".format(algorithm), size = 20 )\n",
        "    plt.ylabel(\"Mean RMSE (cv=5)\")\n",
        "\n",
        "    plt.subplot(2,1,2)\n",
        "    plt.plot(rmse)\n",
        "    plt.xlim(0,20)\n",
        "    plt.xticks(np.arange(0, 20, step=2))\n",
        "\n",
        "    plt.xlabel(\"{0}(facteur = k)\".format(algorithm))\n",
        "    plt.ylabel(\"Mean RMSE (cv=5)\")\n",
        "    plt.axvline(np.argmin(rmse), color = \"r\")\n",
        "\n"
      ]
    },
    {
      "cell_type": "code",
      "execution_count": null,
      "metadata": {
        "colab": {
          "base_uri": "https://localhost:8080/",
          "height": 395
        },
        "id": "TTkaOT2ypk5x",
        "outputId": "9b8be6f7-20db-4541-abba-283285b3adac"
      },
      "outputs": [
        {
          "output_type": "display_data",
          "data": {
            "text/plain": [
              "<Figure size 880x400 with 2 Axes>"
            ],
            "image/png": "[encoded data removed]"
          },
          "metadata": {}
        }
      ],
      "source": [
        "plot_rmse(rmse_svd,\"SVD\")"
      ]
    },
    {
      "cell_type": "markdown",
      "metadata": {
        "id": "SVWcY-qJpk5x"
      },
      "source": [
        "### Questions:\n",
        "\n",
        "the different parameters of the SVD: https://surprise.readthedocs.io/en/stable/matrix_factorization.html#matrix-factorization-based-algorithms\n",
        "also: https://surprise.readthedocs.io/en/stable/basic_algorithms.html#surprise.prediction_algorithms.baseline_only.BaselineOnly\n",
        "\n",
        "1. Using GridSearchCV show the best combination of parameters for the baselineonly version\n",
        "2. Using GridSearchCV, display the best combination of parameters for the biased version\n",
        "3. Same question for the unbiased version\n",
        "4. redo the same work (i.e., 1 and 2 and 3) using RandomizedSearchCV"
      ]
    },
    {
      "cell_type": "markdown",
      "source": [
        "1. Using GridSearchCV show the best combination of parameters for the baselineonly version"
      ],
      "metadata": {
        "id": "L0q24Mdp5DlW"
      }
    },
    {
      "cell_type": "code",
      "source": [
        "\n",
        "param_grid = {\n",
        "    'bsl_options': {\n",
        "        'method': ['als', 'sgd'],\n",
        "        'reg_u': [12,9],\n",
        "        'reg_i': [5,6],\n",
        "        'n_epochs': [3,2]\n",
        "    }\n",
        "}\n",
        "\n",
        "\n",
        "gs = GridSearchCV(BaselineOnly, param_grid, measures=['rmse'], cv=5)\n",
        "gs.fit(data)\n",
        "\n",
        "# Print the best RMSE score\n",
        "print(gs.best_score['rmse'])\n",
        "\n",
        "# Print the parameters behind the best performance\n",
        "print(gs.best_params['rmse'])\n"
      ],
      "metadata": {
        "colab": {
          "base_uri": "https://localhost:8080/"
        },
        "id": "SfimGm854U7I",
        "outputId": "11df9d81-5d4d-4ab3-c200-8e71be35549d"
      },
      "execution_count": null,
      "outputs": [
        {
          "output_type": "stream",
          "name": "stdout",
          "text": [
            "Estimating biases using als...\n",
            "Estimating biases using als...\n",
            "Estimating biases using als...\n",
            "Estimating biases using als...\n",
            "Estimating biases using als...\n",
            "Estimating biases using als...\n",
            "Estimating biases using als...\n",
            "Estimating biases using als...\n",
            "Estimating biases using als...\n",
            "Estimating biases using als...\n",
            "Estimating biases using als...\n",
            "Estimating biases using als...\n",
            "Estimating biases using als...\n",
            "Estimating biases using als...\n",
            "Estimating biases using als...\n",
            "Estimating biases using als...\n",
            "Estimating biases using als...\n",
            "Estimating biases using als...\n",
            "Estimating biases using als...\n",
            "Estimating biases using als...\n",
            "Estimating biases using als...\n",
            "Estimating biases using als...\n",
            "Estimating biases using als...\n",
            "Estimating biases using als...\n",
            "Estimating biases using als...\n",
            "Estimating biases using als...\n",
            "Estimating biases using als...\n",
            "Estimating biases using als...\n",
            "Estimating biases using als...\n",
            "Estimating biases using als...\n",
            "Estimating biases using als...\n",
            "Estimating biases using als...\n",
            "Estimating biases using als...\n",
            "Estimating biases using als...\n",
            "Estimating biases using als...\n",
            "Estimating biases using als...\n",
            "Estimating biases using als...\n",
            "Estimating biases using als...\n",
            "Estimating biases using als...\n",
            "Estimating biases using als...\n",
            "Estimating biases using sgd...\n",
            "Estimating biases using sgd...\n",
            "Estimating biases using sgd...\n",
            "Estimating biases using sgd...\n",
            "Estimating biases using sgd...\n",
            "Estimating biases using sgd...\n",
            "Estimating biases using sgd...\n",
            "Estimating biases using sgd...\n",
            "Estimating biases using sgd...\n",
            "Estimating biases using sgd...\n",
            "Estimating biases using sgd...\n",
            "Estimating biases using sgd...\n",
            "Estimating biases using sgd...\n",
            "Estimating biases using sgd...\n",
            "Estimating biases using sgd...\n",
            "Estimating biases using sgd...\n",
            "Estimating biases using sgd...\n",
            "Estimating biases using sgd...\n",
            "Estimating biases using sgd...\n",
            "Estimating biases using sgd...\n",
            "Estimating biases using sgd...\n",
            "Estimating biases using sgd...\n",
            "Estimating biases using sgd...\n",
            "Estimating biases using sgd...\n",
            "Estimating biases using sgd...\n",
            "Estimating biases using sgd...\n",
            "Estimating biases using sgd...\n",
            "Estimating biases using sgd...\n",
            "Estimating biases using sgd...\n",
            "Estimating biases using sgd...\n",
            "Estimating biases using sgd...\n",
            "Estimating biases using sgd...\n",
            "Estimating biases using sgd...\n",
            "Estimating biases using sgd...\n",
            "Estimating biases using sgd...\n",
            "Estimating biases using sgd...\n",
            "Estimating biases using sgd...\n",
            "Estimating biases using sgd...\n",
            "Estimating biases using sgd...\n",
            "Estimating biases using sgd...\n",
            "0.9410537445982893\n",
            "{'bsl_options': {'method': 'als', 'reg_u': 9, 'reg_i': 5, 'n_epochs': 3}}\n"
          ]
        }
      ]
    },
    {
      "cell_type": "markdown",
      "source": [
        "2. Using GridSearchCV, display the best combination of parameters for the biased version"
      ],
      "metadata": {
        "id": "AnGZJ7JS2D-o"
      }
    },
    {
      "cell_type": "code",
      "execution_count": null,
      "metadata": {
        "colab": {
          "base_uri": "https://localhost:8080/"
        },
        "id": "OqVfdipJpk5x",
        "outputId": "e32b3c2b-323b-4e1e-9282-d318f5d30a1f"
      },
      "outputs": [
        {
          "output_type": "stream",
          "name": "stdout",
          "text": [
            "1.0728279787821844\n",
            "{'reg_qi': 5, 'reg_pu': 15, 'reg_bi': 6, 'reg_bu': 5}\n"
          ]
        }
      ],
      "source": [
        "param_grid = {\n",
        "               'reg_qi': [5, 12, 18],\n",
        "               'reg_pu': [5, 10, 15],\n",
        "               'reg_bi': [6, 15, 14],\n",
        "               'reg_bu': [5, 11, 19]\n",
        "               }\n",
        "\n",
        "gs = GridSearchCV(SVD, param_grid, measures=['rmse'], cv=5)\n",
        "gs.fit(data)\n",
        "\n",
        "\n",
        "# the best RMSE\n",
        "print(gs.best_score['rmse'])\n",
        "\n",
        "# parameters behind this performance\n",
        "print(gs.best_params['rmse'])"
      ]
    },
    {
      "cell_type": "markdown",
      "source": [
        "3. Same question for the unbiased version\n",
        "\n"
      ],
      "metadata": {
        "id": "2Q4j0PCYuv8i"
      }
    },
    {
      "cell_type": "code",
      "source": [
        "param_grid = {\n",
        "               'reg_qi': [5, 12, 18],\n",
        "               'reg_pu': [5, 10, 15],\n",
        "               'biased':[False]\n",
        "               }\n",
        "\n",
        "gs = GridSearchCV(SVD, param_grid, measures=['rmse'], cv=5)\n",
        "gs.fit(data)\n",
        "\n",
        "\n",
        "# the best RMSE\n",
        "print(gs.best_score['rmse'])\n",
        "\n",
        "# parameters behind this performance\n",
        "print(gs.best_params['rmse'])"
      ],
      "metadata": {
        "colab": {
          "base_uri": "https://localhost:8080/"
        },
        "id": "Qgg4R1fCuvqL",
        "outputId": "2cb3d67b-5213-49b2-be37-9c874f332d2d"
      },
      "execution_count": null,
      "outputs": [
        {
          "output_type": "stream",
          "name": "stdout",
          "text": [
            "2.7689172594860114\n",
            "{'reg_qi': 5, 'reg_pu': 5, 'biased': False}\n"
          ]
        }
      ]
    },
    {
      "cell_type": "markdown",
      "source": [
        "4. redo the same work (i.e., 1 and 2 and 3) using RandomizedSearchCV"
      ],
      "metadata": {
        "id": "V155nuVg52T5"
      }
    },
    {
      "cell_type": "code",
      "source": [
        "from surprise.model_selection import RandomizedSearchCV"
      ],
      "metadata": {
        "id": "xxEcjNKqw3vz"
      },
      "execution_count": null,
      "outputs": []
    },
    {
      "cell_type": "code",
      "source": [
        "param_grid = {\n",
        "               'reg_qi': list(range(5,15)),\n",
        "               'reg_pu': list(range(10,20)),\n",
        "               'biased':[False]\n",
        "               }\n",
        "\n",
        "gs = RandomizedSearchCV(SVD, param_grid, measures=['rmse'], cv=5)\n",
        "gs.fit(data)\n",
        "\n",
        "\n",
        "# the best RMSE\n",
        "print(gs.best_score['rmse'])\n",
        "\n",
        "# parameters behind this performance\n",
        "print(gs.best_params['rmse'])"
      ],
      "metadata": {
        "colab": {
          "base_uri": "https://localhost:8080/"
        },
        "id": "Vm7VK3PY6ZBB",
        "outputId": "4c655b90-428c-494e-e9f7-4a20a551a18f"
      },
      "execution_count": null,
      "outputs": [
        {
          "output_type": "stream",
          "name": "stdout",
          "text": [
            "2.768760512393152\n",
            "{'reg_qi': 8, 'reg_pu': 17, 'biased': False}\n"
          ]
        }
      ]
    },
    {
      "cell_type": "code",
      "source": [],
      "metadata": {
        "id": "jLDr0X1P8lWj"
      },
      "execution_count": null,
      "outputs": []
    }
  ],
  "metadata": {
    "kernelspec": {
      "display_name": "Python 3 (ipykernel)",
      "language": "python",
      "name": "python3"
    },
    "language_info": {
      "codemirror_mode": {
        "name": "ipython",
        "version": 3
      },
      "file_extension": ".py",
      "mimetype": "text/x-python",
      "name": "python",
      "nbconvert_exporter": "python",
      "pygments_lexer": "ipython3",
      "version": "3.7.13"
    },
    "colab": {
      "provenance": []
    }
  },
  "nbformat": 4,
  "nbformat_minor": 0
}